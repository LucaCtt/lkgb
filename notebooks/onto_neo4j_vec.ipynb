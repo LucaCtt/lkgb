{
 "cells": [
  {
   "cell_type": "code",
   "execution_count": 6,
   "metadata": {},
   "outputs": [],
   "source": [
    "from langchain_neo4j import Neo4jVector\n",
    "from langchain_ollama import ChatOllama\n",
    "from langchain_ollama.embeddings import OllamaEmbeddings\n",
    "\n",
    "local_embeddings = OllamaEmbeddings(model=\"nomic-embed-text\")\n",
    "\n",
    "vector_store = Neo4jVector.from_existing_graph(\n",
    "    url=\"bolt+ssc://10.20.13.89:7687\",\n",
    "    username=\"neo4j\",\n",
    "    password=\"password\",  # noqa: S106\n",
    "    embedding=local_embeddings,\n",
    "    node_label=\"Resource\",\n",
    "    text_node_properties=[\"uri\", \"rdfs_comment\"],\n",
    "    embedding_node_property=\"embedding\",\n",
    ")\n",
    "\n",
    "llm = ChatOllama(model=\"qwen2.5-coder:7b\")"
   ]
  },
  {
   "cell_type": "code",
   "execution_count": null,
   "metadata": {},
   "outputs": [],
   "source": [
    "query = llm.invoke(\n",
    "    \"Identify the features in the following log. \\\n",
    "        Please output just the comma-separated names of the features, \\\n",
    "            without the value of the features or any other text. \\\n",
    "                Log: '2022-01-21 00:09:11 jhall/192.168.230.165:46011 VERIFY KU O'.\",\n",
    ")"
   ]
  },
  {
   "cell_type": "code",
   "execution_count": 8,
   "metadata": {},
   "outputs": [
    {
     "data": {
      "text/plain": [
       "'timestamp,username,ip_address,application_name,action'"
      ]
     },
     "execution_count": 8,
     "metadata": {},
     "output_type": "execute_result"
    }
   ],
   "source": [
    "query.content"
   ]
  },
  {
   "cell_type": "code",
   "execution_count": 9,
   "metadata": {},
   "outputs": [
    {
     "data": {
      "text/plain": [
       "[Document(metadata={'rdfs__comment': 'Event Start Time'}, page_content='\\nuri: https://w3id.org/sepses/ns/log#time\\nrdfs_comment: '),\n",
       " Document(metadata={'rdfs__comment': 'Name of the application that generated the event'}, page_content='\\nuri: https://w3id.org/sepses/ns/log#appname\\nrdfs_comment: '),\n",
       " Document(metadata={'rdfs__comment': 'Application name'}, page_content='\\nuri: https://w3id.org/sepses/ns/log#app.name\\nrdfs_comment: '),\n",
       " Document(metadata={'rdfs__comment': 'IPv4 address'}, page_content='\\nuri: https://w3id.org/sepses/ns/log#address.ipv4\\nrdfs_comment: '),\n",
       " Document(metadata={'rdfs__label': 'Application', 'rdfs__comment': 'Application'}, page_content='\\nuri: https://w3id.org/sepses/ns/log#App\\nrdfs_comment: '),\n",
       " Document(metadata={}, page_content='\\nuri: http://purl.org/vocab/vann/preferredNamespacePrefix\\nrdfs_comment: '),\n",
       " Document(metadata={'rdfs__comment': 'IPv6 address'}, page_content='\\nuri: https://w3id.org/sepses/ns/log#address.ipv6\\nrdfs_comment: '),\n",
       " Document(metadata={}, page_content='\\nuri: https://w3id.org/sepses/ns/log#parameter.address\\nrdfs_comment: '),\n",
       " Document(metadata={}, page_content='\\nuri: https://w3id.org/sepses/ns/log#ciscoMac\\nrdfs_comment: '),\n",
       " Document(metadata={}, page_content='\\nuri: https://w3id.org/sepses/ns/log#parameter.app\\nrdfs_comment: '),\n",
       " Document(metadata={'rdfs__comment': 'port'}, page_content='\\nuri: https://w3id.org/sepses/ns/log#address.port\\nrdfs_comment: '),\n",
       " Document(metadata={'rdfs__comment': 'Application vendor'}, page_content='\\nuri: https://w3id.org/sepses/ns/log#app.vend\\nrdfs_comment: '),\n",
       " Document(metadata={'rdfs__comment': 'Application version'}, page_content='\\nuri: https://w3id.org/sepses/ns/log#app.ver\\nrdfs_comment: '),\n",
       " Document(metadata={'rdfs__label': 'Network Address', 'rdfs__comment': 'Logical address in a network, which consists of hostname, IPv4, IPv6, and port'}, page_content='\\nuri: https://w3id.org/sepses/ns/log#Address\\nrdfs_comment: '),\n",
       " Document(metadata={'rdfs__comment': 'Process name'}, page_content='\\nuri: https://w3id.org/sepses/ns/log#proc.name\\nrdfs_comment: '),\n",
       " Document(metadata={'rdfs__comment': 'Process name that generated the event'}, page_content='\\nuri: https://w3id.org/sepses/ns/log#pname\\nrdfs_comment: '),\n",
       " Document(metadata={'rdfs__comment': 'hostname'}, page_content='\\nuri: https://w3id.org/sepses/ns/log#address.host\\nrdfs_comment: '),\n",
       " Document(metadata={'rdfs__label': 'Event', 'rdfs__comment': 'A representation of a single logline in a log file.'}, page_content='\\nuri: https://w3id.org/sepses/ns/log#Event\\nrdfs_comment: '),\n",
       " Document(metadata={'rdfs__comment': 'User account domain (NT Domain)'}, page_content='\\nuri: https://w3id.org/sepses/ns/log#user.domain\\nrdfs_comment: '),\n",
       " Document(metadata={'rdfs__comment': 'Relation between an Event and an Application that it contained (log:App)'}, page_content='\\nuri: https://w3id.org/sepses/ns/log#hasApp\\nrdfs_comment: '),\n",
       " Document(metadata={}, page_content='\\nuri: https://w3id.org/sepses/ns/log#parameter.syslog\\nrdfs_comment: '),\n",
       " Document(metadata={}, page_content='\\nuri: http://purl.org/dc/elements/1.1/title\\nrdfs_comment: '),\n",
       " Document(metadata={}, page_content='\\nuri: https://w3id.org/sepses/ns/log#parameter.user\\nrdfs_comment: '),\n",
       " Document(metadata={}, page_content='\\nuri: http://purl.org/dc/elements/1.1/rights\\nrdfs_comment: '),\n",
       " Document(metadata={'rdfs__label': 'Syslog', 'rdfs__comment': 'Syslog compatibility'}, page_content='\\nuri: https://w3id.org/sepses/ns/log#Syslog\\nrdfs_comment: '),\n",
       " Document(metadata={'rdfs__comment': 'Relation between an Event and Field Objects'}, page_content='\\nuri: https://w3id.org/sepses/ns/log#hasParameter\\nrdfs_comment: '),\n",
       " Document(metadata={}, page_content='\\nuri: https://w3id.org/sepses/ns/log#parameter\\nrdfs_comment: '),\n",
       " Document(metadata={'rdfs__label': 'Parameter', 'rdfs__comment': 'The superclass of various classes that represent field dictionary items. Most of them are from CEE standard, while several classes are added (e.g., URL).'}, page_content='\\nuri: https://w3id.org/sepses/ns/log#Parameter\\nrdfs_comment: '),\n",
       " Document(metadata={'rdfs__comment': 'Syslog priority value'}, page_content='\\nuri: https://w3id.org/sepses/ns/log#syslog.pri\\nrdfs_comment: '),\n",
       " Document(metadata={'rdfs__comment': 'Relation between an Event and its source address'}, page_content='\\nuri: https://w3id.org/sepses/ns/log#hasEventSourceAddress\\nrdfs_comment: ')]"
      ]
     },
     "execution_count": 9,
     "metadata": {},
     "output_type": "execute_result"
    }
   ],
   "source": [
    "res = vector_store.similarity_search(query.content, k=30)\n",
    "res"
   ]
  }
 ],
 "metadata": {
  "kernelspec": {
   "display_name": ".venv",
   "language": "python",
   "name": "python3"
  },
  "language_info": {
   "codemirror_mode": {
    "name": "ipython",
    "version": 3
   },
   "file_extension": ".py",
   "mimetype": "text/x-python",
   "name": "python",
   "nbconvert_exporter": "python",
   "pygments_lexer": "ipython3",
   "version": "3.13.2"
  }
 },
 "nbformat": 4,
 "nbformat_minor": 2
}
