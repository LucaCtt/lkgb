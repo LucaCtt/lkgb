{
 "cells": [
  {
   "cell_type": "code",
   "execution_count": 1,
   "metadata": {},
   "outputs": [],
   "source": [
    "from pathlib import Path\n",
    "\n",
    "import pandas as pd\n",
    "\n",
    "with Path.open(\"../data/Hadoop_2k.log\") as f:\n",
    "    hadoop_lines = f.readlines()\n",
    "\n",
    "hadoop_df = pd.DataFrame(hadoop_lines, columns=[\"text\"])\n",
    "hadoop_df[\"line_number\"] = hadoop_df.index + 1\n",
    "hadoop_df[\"tactic\"] = \"\"\n",
    "hadoop_df[\"techniques\"] = \"\"\n",
    "hadoop_df[\"template\"] = \"\"\n",
    "hadoop_df[\"file_name\"] = \"Hadoop_2k.log\"\n",
    "hadoop_df.to_csv(\"../data/Hadoop_2k.csv\", index=False)"
   ]
  }
 ],
 "metadata": {
  "kernelspec": {
   "display_name": ".venv",
   "language": "python",
   "name": "python3"
  },
  "language_info": {
   "codemirror_mode": {
    "name": "ipython",
    "version": 3
   },
   "file_extension": ".py",
   "mimetype": "text/x-python",
   "name": "python",
   "nbconvert_exporter": "python",
   "pygments_lexer": "ipython3",
   "version": "3.13.1"
  }
 },
 "nbformat": 4,
 "nbformat_minor": 2
}
